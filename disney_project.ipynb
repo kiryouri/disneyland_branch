{
 "cells": [
  {
   "cell_type": "code",
   "execution_count": 1,
   "metadata": {},
   "outputs": [],
   "source": [
    "import numpy as np \n",
    "import pandas as pd\n",
    "import matplotlib.pyplot as plt\n",
    "import seaborn as sns\n",
    "from scipy import stats\n",
    "%matplotlib inline"
   ]
  },
  {
   "cell_type": "code",
   "execution_count": 2,
   "metadata": {},
   "outputs": [],
   "source": [
    "review_data=pd.read_csv('https://raw.githubusercontent.com/kiryouri/disneyland_branch_project/main/DisneylandReviews_modified.csv',encoding='latin-1', index_col=0)"
   ]
  },
  {
   "cell_type": "code",
   "execution_count": 3,
   "metadata": {},
   "outputs": [
    {
     "data": {
      "text/plain": [
       "review_id            0\n",
       "rating               0\n",
       "year_month           0\n",
       "reviewer_location    0\n",
       "branch               0\n",
       "dtype: int64"
      ]
     },
     "execution_count": 3,
     "metadata": {},
     "output_type": "execute_result"
    }
   ],
   "source": [
    "review_data.columns = map(str.lower, review_data.columns) #в lowercase для удобства\n",
    "review_data['branch']=review_data.branch.str.replace('Disneyland_','')\n",
    "review_data.isnull().sum()  #na check"
   ]
  },
  {
   "cell_type": "code",
   "execution_count": 4,
   "metadata": {},
   "outputs": [
    {
     "data": {
      "text/plain": [
       "121586148    2\n",
       "129231609    2\n",
       "164830205    2\n",
       "129207323    2\n",
       "166787635    2\n",
       "            ..\n",
       "127111751    1\n",
       "359629381    1\n",
       "609401410    1\n",
       "184721985    1\n",
       "322889295    1\n",
       "Name: review_id, Length: 42636, dtype: int64"
      ]
     },
     "execution_count": 4,
     "metadata": {},
     "output_type": "execute_result"
    }
   ],
   "source": [
    "review_data.review_id.value_counts() #проверяю id на дубликаты"
   ]
  },
  {
   "cell_type": "code",
   "execution_count": 5,
   "metadata": {},
   "outputs": [],
   "source": [
    "review_data=review_data.drop_duplicates()"
   ]
  },
  {
   "cell_type": "code",
   "execution_count": 6,
   "metadata": {},
   "outputs": [
    {
     "data": {
      "text/html": [
       "<div>\n",
       "<style scoped>\n",
       "    .dataframe tbody tr th:only-of-type {\n",
       "        vertical-align: middle;\n",
       "    }\n",
       "\n",
       "    .dataframe tbody tr th {\n",
       "        vertical-align: top;\n",
       "    }\n",
       "\n",
       "    .dataframe thead th {\n",
       "        text-align: right;\n",
       "    }\n",
       "</style>\n",
       "<table border=\"1\" class=\"dataframe\">\n",
       "  <thead>\n",
       "    <tr style=\"text-align: right;\">\n",
       "      <th></th>\n",
       "      <th>review_id</th>\n",
       "      <th>rating</th>\n",
       "      <th>year_month</th>\n",
       "      <th>branch</th>\n",
       "    </tr>\n",
       "  </thead>\n",
       "  <tbody>\n",
       "    <tr>\n",
       "      <th>0</th>\n",
       "      <td>670772142</td>\n",
       "      <td>4</td>\n",
       "      <td>2019-4</td>\n",
       "      <td>HongKong</td>\n",
       "    </tr>\n",
       "    <tr>\n",
       "      <th>1</th>\n",
       "      <td>670682799</td>\n",
       "      <td>4</td>\n",
       "      <td>2019-5</td>\n",
       "      <td>HongKong</td>\n",
       "    </tr>\n",
       "    <tr>\n",
       "      <th>2</th>\n",
       "      <td>670623270</td>\n",
       "      <td>4</td>\n",
       "      <td>2019-4</td>\n",
       "      <td>HongKong</td>\n",
       "    </tr>\n",
       "    <tr>\n",
       "      <th>3</th>\n",
       "      <td>670607911</td>\n",
       "      <td>4</td>\n",
       "      <td>2019-4</td>\n",
       "      <td>HongKong</td>\n",
       "    </tr>\n",
       "    <tr>\n",
       "      <th>4</th>\n",
       "      <td>670607296</td>\n",
       "      <td>4</td>\n",
       "      <td>2019-4</td>\n",
       "      <td>HongKong</td>\n",
       "    </tr>\n",
       "    <tr>\n",
       "      <th>...</th>\n",
       "      <td>...</td>\n",
       "      <td>...</td>\n",
       "      <td>...</td>\n",
       "      <td>...</td>\n",
       "    </tr>\n",
       "    <tr>\n",
       "      <th>42651</th>\n",
       "      <td>1765031</td>\n",
       "      <td>5</td>\n",
       "      <td>missing</td>\n",
       "      <td>Paris</td>\n",
       "    </tr>\n",
       "    <tr>\n",
       "      <th>42652</th>\n",
       "      <td>1659553</td>\n",
       "      <td>5</td>\n",
       "      <td>missing</td>\n",
       "      <td>Paris</td>\n",
       "    </tr>\n",
       "    <tr>\n",
       "      <th>42653</th>\n",
       "      <td>1645894</td>\n",
       "      <td>5</td>\n",
       "      <td>missing</td>\n",
       "      <td>Paris</td>\n",
       "    </tr>\n",
       "    <tr>\n",
       "      <th>42654</th>\n",
       "      <td>1618637</td>\n",
       "      <td>4</td>\n",
       "      <td>missing</td>\n",
       "      <td>Paris</td>\n",
       "    </tr>\n",
       "    <tr>\n",
       "      <th>42655</th>\n",
       "      <td>1536786</td>\n",
       "      <td>4</td>\n",
       "      <td>missing</td>\n",
       "      <td>Paris</td>\n",
       "    </tr>\n",
       "  </tbody>\n",
       "</table>\n",
       "<p>42636 rows × 4 columns</p>\n",
       "</div>"
      ],
      "text/plain": [
       "       review_id  rating year_month    branch\n",
       "0      670772142       4     2019-4  HongKong\n",
       "1      670682799       4     2019-5  HongKong\n",
       "2      670623270       4     2019-4  HongKong\n",
       "3      670607911       4     2019-4  HongKong\n",
       "4      670607296       4     2019-4  HongKong\n",
       "...          ...     ...        ...       ...\n",
       "42651    1765031       5    missing     Paris\n",
       "42652    1659553       5    missing     Paris\n",
       "42653    1645894       5    missing     Paris\n",
       "42654    1618637       4    missing     Paris\n",
       "42655    1536786       4    missing     Paris\n",
       "\n",
       "[42636 rows x 4 columns]"
      ]
     },
     "execution_count": 6,
     "metadata": {},
     "output_type": "execute_result"
    }
   ],
   "source": [
    "review_data=review_data.drop(['reviewer_location'], axis = 1)\n",
    "review_data"
   ]
  },
  {
   "cell_type": "code",
   "execution_count": 7,
   "metadata": {},
   "outputs": [],
   "source": [
    "review_data.branch.unique() #получаю список уникальных подразделений"
   ]
  },
  {
   "cell_type": "code",
   "execution_count": 8,
   "metadata": {},
   "outputs": [],
   "source": [
    "#для дальнейшей оценки логичным будет удалить отзывы без даты\n",
    "review_data.year_month\n",
    "review_data_without_missings = review_data.loc[review_data['year_month'] != 'missing'] #фильтрую чтобы не было неконвертабельных значений"
   ]
  },
  {
   "cell_type": "code",
   "execution_count": 9,
   "metadata": {},
   "outputs": [
    {
     "name": "stdout",
     "output_type": "stream",
     "text": [
      "<class 'pandas.core.frame.DataFrame'>\n",
      "Int64Index: 40023 entries, 0 to 42117\n",
      "Data columns (total 4 columns):\n",
      " #   Column      Non-Null Count  Dtype         \n",
      "---  ------      --------------  -----         \n",
      " 0   review_id   40023 non-null  int64         \n",
      " 1   rating      40023 non-null  int64         \n",
      " 2   year_month  40023 non-null  datetime64[ns]\n",
      " 3   branch      40023 non-null  object        \n",
      "dtypes: datetime64[ns](1), int64(2), object(1)\n",
      "memory usage: 1.4+ MB\n"
     ]
    }
   ],
   "source": [
    "review_data_without_missings['year_month']=pd.to_datetime(review_data_without_missings['year_month'], format='%Y-%m') #для дальнейших действий форматирую в datetime\n",
    "review_data_without_missings.info() "
   ]
  },
  {
   "cell_type": "code",
   "execution_count": 10,
   "metadata": {},
   "outputs": [],
   "source": [
    "#формирую новые колонки\n",
    "review_data_without_missings['season']=review_data_without_missings.year_month.dt.month%12 // 3 + 1 #формирую сезоны из месяцев\n",
    "review_data_without_missings['month']=review_data_without_missings.year_month.dt.month\n",
    "review_data_without_missings['year']=review_data_without_missings.year_month.dt.year"
   ]
  },
  {
   "cell_type": "code",
   "execution_count": 11,
   "metadata": {},
   "outputs": [],
   "source": [
    "review_data_without_missings.season=review_data_without_missings.season.replace({1:'winter', 2:'spring', 3:'summer', 4:'fall'}) #цифры в названия"
   ]
  },
  {
   "cell_type": "code",
   "execution_count": 12,
   "metadata": {},
   "outputs": [],
   "source": [
    "rating_by_season=review_data_without_missings.groupby('season', as_index=False).rating.mean() #средние арифметические по сезонам"
   ]
  },
  {
   "cell_type": "code",
   "execution_count": 13,
   "metadata": {},
   "outputs": [
    {
     "data": {
      "text/html": [
       "<div>\n",
       "<style scoped>\n",
       "    .dataframe tbody tr th:only-of-type {\n",
       "        vertical-align: middle;\n",
       "    }\n",
       "\n",
       "    .dataframe tbody tr th {\n",
       "        vertical-align: top;\n",
       "    }\n",
       "\n",
       "    .dataframe thead th {\n",
       "        text-align: right;\n",
       "    }\n",
       "</style>\n",
       "<table border=\"1\" class=\"dataframe\">\n",
       "  <thead>\n",
       "    <tr style=\"text-align: right;\">\n",
       "      <th></th>\n",
       "      <th>season</th>\n",
       "      <th>rating</th>\n",
       "    </tr>\n",
       "  </thead>\n",
       "  <tbody>\n",
       "    <tr>\n",
       "      <th>0</th>\n",
       "      <td>fall</td>\n",
       "      <td>4.303917</td>\n",
       "    </tr>\n",
       "    <tr>\n",
       "      <th>1</th>\n",
       "      <td>spring</td>\n",
       "      <td>4.216547</td>\n",
       "    </tr>\n",
       "    <tr>\n",
       "      <th>2</th>\n",
       "      <td>summer</td>\n",
       "      <td>4.173067</td>\n",
       "    </tr>\n",
       "    <tr>\n",
       "      <th>3</th>\n",
       "      <td>winter</td>\n",
       "      <td>4.243103</td>\n",
       "    </tr>\n",
       "  </tbody>\n",
       "</table>\n",
       "</div>"
      ],
      "text/plain": [
       "   season    rating\n",
       "0    fall  4.303917\n",
       "1  spring  4.216547\n",
       "2  summer  4.173067\n",
       "3  winter  4.243103"
      ]
     },
     "execution_count": 13,
     "metadata": {},
     "output_type": "execute_result"
    }
   ],
   "source": [
    "rating_by_season"
   ]
  },
  {
   "cell_type": "code",
   "execution_count": 14,
   "metadata": {},
   "outputs": [
    {
     "data": {
      "text/html": [
       "<div>\n",
       "<style scoped>\n",
       "    .dataframe tbody tr th:only-of-type {\n",
       "        vertical-align: middle;\n",
       "    }\n",
       "\n",
       "    .dataframe tbody tr th {\n",
       "        vertical-align: top;\n",
       "    }\n",
       "\n",
       "    .dataframe thead th {\n",
       "        text-align: right;\n",
       "    }\n",
       "</style>\n",
       "<table border=\"1\" class=\"dataframe\">\n",
       "  <thead>\n",
       "    <tr style=\"text-align: right;\">\n",
       "      <th></th>\n",
       "      <th>season</th>\n",
       "      <th>branch</th>\n",
       "      <th>rating</th>\n",
       "    </tr>\n",
       "  </thead>\n",
       "  <tbody>\n",
       "    <tr>\n",
       "      <th>0</th>\n",
       "      <td>fall</td>\n",
       "      <td>California</td>\n",
       "      <td>4.451174</td>\n",
       "    </tr>\n",
       "    <tr>\n",
       "      <th>1</th>\n",
       "      <td>fall</td>\n",
       "      <td>HongKong</td>\n",
       "      <td>4.246187</td>\n",
       "    </tr>\n",
       "    <tr>\n",
       "      <th>2</th>\n",
       "      <td>fall</td>\n",
       "      <td>Paris</td>\n",
       "      <td>4.113274</td>\n",
       "    </tr>\n",
       "    <tr>\n",
       "      <th>3</th>\n",
       "      <td>spring</td>\n",
       "      <td>California</td>\n",
       "      <td>4.378306</td>\n",
       "    </tr>\n",
       "    <tr>\n",
       "      <th>4</th>\n",
       "      <td>spring</td>\n",
       "      <td>HongKong</td>\n",
       "      <td>4.263003</td>\n",
       "    </tr>\n",
       "    <tr>\n",
       "      <th>5</th>\n",
       "      <td>spring</td>\n",
       "      <td>Paris</td>\n",
       "      <td>3.951281</td>\n",
       "    </tr>\n",
       "    <tr>\n",
       "      <th>6</th>\n",
       "      <td>summer</td>\n",
       "      <td>California</td>\n",
       "      <td>4.444896</td>\n",
       "    </tr>\n",
       "    <tr>\n",
       "      <th>7</th>\n",
       "      <td>summer</td>\n",
       "      <td>HongKong</td>\n",
       "      <td>4.106557</td>\n",
       "    </tr>\n",
       "    <tr>\n",
       "      <th>8</th>\n",
       "      <td>summer</td>\n",
       "      <td>Paris</td>\n",
       "      <td>3.872032</td>\n",
       "    </tr>\n",
       "    <tr>\n",
       "      <th>9</th>\n",
       "      <td>winter</td>\n",
       "      <td>California</td>\n",
       "      <td>4.370212</td>\n",
       "    </tr>\n",
       "    <tr>\n",
       "      <th>10</th>\n",
       "      <td>winter</td>\n",
       "      <td>HongKong</td>\n",
       "      <td>4.233515</td>\n",
       "    </tr>\n",
       "    <tr>\n",
       "      <th>11</th>\n",
       "      <td>winter</td>\n",
       "      <td>Paris</td>\n",
       "      <td>4.050100</td>\n",
       "    </tr>\n",
       "  </tbody>\n",
       "</table>\n",
       "</div>"
      ],
      "text/plain": [
       "    season      branch    rating\n",
       "0     fall  California  4.451174\n",
       "1     fall    HongKong  4.246187\n",
       "2     fall       Paris  4.113274\n",
       "3   spring  California  4.378306\n",
       "4   spring    HongKong  4.263003\n",
       "5   spring       Paris  3.951281\n",
       "6   summer  California  4.444896\n",
       "7   summer    HongKong  4.106557\n",
       "8   summer       Paris  3.872032\n",
       "9   winter  California  4.370212\n",
       "10  winter    HongKong  4.233515\n",
       "11  winter       Paris  4.050100"
      ]
     },
     "execution_count": 14,
     "metadata": {},
     "output_type": "execute_result"
    }
   ],
   "source": [
    "rating_by_season_and_branch=review_data_without_missings.groupby(['season','branch'], as_index=False).rating.mean() #средние арифметические по сезонам и подразделениям\n",
    "rating_by_season_and_branch"
   ]
  },
  {
   "cell_type": "code",
   "execution_count": 15,
   "metadata": {},
   "outputs": [
    {
     "data": {
      "image/png": "[encoded data removed]",
      "text/plain": [
       "<Figure size 648x432 with 1 Axes>"
      ]
     },
     "metadata": {
      "needs_background": "light"
     },
     "output_type": "display_data"
    }
   ],
   "source": [
    "#строю графики по каждому подразделению-сезону\n",
    "plt.figure(figsize=(9,6))\n",
    "sns.barplot(x='branch', y='rating', hue='season', data=rating_by_season_and_branch,palette='deep')\n",
    "plt.legend(loc='upper center', bbox_to_anchor=(1.10, 1.0), ncol=1) #перемещаю hue legend чтобы не перекрывала график\n",
    "sns.despine()\n",
    "#наибольшая разница в Париже осень vs лето, продолжу с этими данными"
   ]
  },
  {
   "cell_type": "code",
   "execution_count": 16,
   "metadata": {},
   "outputs": [
    {
     "data": {
      "text/html": [
       "<div>\n",
       "<style scoped>\n",
       "    .dataframe tbody tr th:only-of-type {\n",
       "        vertical-align: middle;\n",
       "    }\n",
       "\n",
       "    .dataframe tbody tr th {\n",
       "        vertical-align: top;\n",
       "    }\n",
       "\n",
       "    .dataframe thead th {\n",
       "        text-align: right;\n",
       "    }\n",
       "</style>\n",
       "<table border=\"1\" class=\"dataframe\">\n",
       "  <thead>\n",
       "    <tr style=\"text-align: right;\">\n",
       "      <th></th>\n",
       "      <th>season</th>\n",
       "      <th>branch</th>\n",
       "      <th>rating</th>\n",
       "    </tr>\n",
       "  </thead>\n",
       "  <tbody>\n",
       "    <tr>\n",
       "      <th>0</th>\n",
       "      <td>fall</td>\n",
       "      <td>Paris</td>\n",
       "      <td>4.113274</td>\n",
       "    </tr>\n",
       "    <tr>\n",
       "      <th>1</th>\n",
       "      <td>spring</td>\n",
       "      <td>Paris</td>\n",
       "      <td>3.951281</td>\n",
       "    </tr>\n",
       "    <tr>\n",
       "      <th>2</th>\n",
       "      <td>summer</td>\n",
       "      <td>Paris</td>\n",
       "      <td>3.872032</td>\n",
       "    </tr>\n",
       "    <tr>\n",
       "      <th>3</th>\n",
       "      <td>winter</td>\n",
       "      <td>Paris</td>\n",
       "      <td>4.050100</td>\n",
       "    </tr>\n",
       "  </tbody>\n",
       "</table>\n",
       "</div>"
      ],
      "text/plain": [
       "   season branch    rating\n",
       "0    fall  Paris  4.113274\n",
       "1  spring  Paris  3.951281\n",
       "2  summer  Paris  3.872032\n",
       "3  winter  Paris  4.050100"
      ]
     },
     "execution_count": 16,
     "metadata": {},
     "output_type": "execute_result"
    }
   ],
   "source": [
    "rating_by_season_and_branch.query('branch==\"Paris\"').reset_index(drop=True)"
   ]
  },
  {
   "cell_type": "code",
   "execution_count": 17,
   "metadata": {},
   "outputs": [],
   "source": [
    "paris_rating_by_season=review_data_without_missings.query('branch==\"Paris\"').reset_index(drop=True).groupby(['season','rating']).agg({'review_id':'count'}).rename(columns={'review_id': 'rating_count'}) \n",
    "#фильтр по Парижу, группировка, подсчет количества оценок"
   ]
  },
  {
   "cell_type": "code",
   "execution_count": 18,
   "metadata": {},
   "outputs": [],
   "source": [
    "paris_rating_by_season['percentage'] = paris_rating_by_season.groupby(level=0).transform(lambda x: (x / x.sum()).round(2)*100) #создаю колонку с процентами"
   ]
  },
  {
   "cell_type": "code",
   "execution_count": 19,
   "metadata": {},
   "outputs": [],
   "source": [
    "paris_rating_by_season=paris_rating_by_season.reset_index()"
   ]
  },
  {
   "cell_type": "code",
   "execution_count": 20,
   "metadata": {},
   "outputs": [],
   "source": [
    "data_fall=paris_rating_by_season.query('season==\"fall\"')\n",
    "data_summer=paris_rating_by_season.query('season==\"summer\"') #делаю отдельные df для каждого из рассматриваемых сезонов"
   ]
  },
  {
   "cell_type": "code",
   "execution_count": 21,
   "metadata": {},
   "outputs": [
    {
     "data": {
      "text/html": [
       "<div>\n",
       "<style scoped>\n",
       "    .dataframe tbody tr th:only-of-type {\n",
       "        vertical-align: middle;\n",
       "    }\n",
       "\n",
       "    .dataframe tbody tr th {\n",
       "        vertical-align: top;\n",
       "    }\n",
       "\n",
       "    .dataframe thead th {\n",
       "        text-align: right;\n",
       "    }\n",
       "</style>\n",
       "<table border=\"1\" class=\"dataframe\">\n",
       "  <thead>\n",
       "    <tr style=\"text-align: right;\">\n",
       "      <th></th>\n",
       "      <th>season</th>\n",
       "      <th>rating</th>\n",
       "      <th>rating_count</th>\n",
       "      <th>percentage</th>\n",
       "    </tr>\n",
       "  </thead>\n",
       "  <tbody>\n",
       "    <tr>\n",
       "      <th>0</th>\n",
       "      <td>fall</td>\n",
       "      <td>1</td>\n",
       "      <td>131</td>\n",
       "      <td>5.0</td>\n",
       "    </tr>\n",
       "    <tr>\n",
       "      <th>1</th>\n",
       "      <td>fall</td>\n",
       "      <td>2</td>\n",
       "      <td>172</td>\n",
       "      <td>6.0</td>\n",
       "    </tr>\n",
       "    <tr>\n",
       "      <th>2</th>\n",
       "      <td>fall</td>\n",
       "      <td>3</td>\n",
       "      <td>389</td>\n",
       "      <td>14.0</td>\n",
       "    </tr>\n",
       "    <tr>\n",
       "      <th>3</th>\n",
       "      <td>fall</td>\n",
       "      <td>4</td>\n",
       "      <td>687</td>\n",
       "      <td>24.0</td>\n",
       "    </tr>\n",
       "    <tr>\n",
       "      <th>4</th>\n",
       "      <td>fall</td>\n",
       "      <td>5</td>\n",
       "      <td>1446</td>\n",
       "      <td>51.0</td>\n",
       "    </tr>\n",
       "  </tbody>\n",
       "</table>\n",
       "</div>"
      ],
      "text/plain": [
       "  season  rating  rating_count  percentage\n",
       "0   fall       1           131         5.0\n",
       "1   fall       2           172         6.0\n",
       "2   fall       3           389        14.0\n",
       "3   fall       4           687        24.0\n",
       "4   fall       5          1446        51.0"
      ]
     },
     "execution_count": 21,
     "metadata": {},
     "output_type": "execute_result"
    }
   ],
   "source": [
    "data_fall"
   ]
  },
  {
   "cell_type": "code",
   "execution_count": 22,
   "metadata": {},
   "outputs": [
    {
     "data": {
      "image/png": "[encoded data removed]",
      "text/plain": [
       "<Figure size 1296x864 with 2 Axes>"
      ]
     },
     "metadata": {},
     "output_type": "display_data"
    }
   ],
   "source": [
    "pie, (ax1, ax2) = plt.subplots(1, 2, figsize=[18,12])\n",
    "#рисую оба пайчарта в сабплотах\n",
    "plt.rcParams['font.size'] = 15.0\n",
    "ax1.set_title('fall', loc='center', y=-0.1)\n",
    "ax2.set_title('summer', loc='center', y=-0.1)\n",
    "ax1.pie(x=data_fall.rating_count, autopct=\"%.1f%%\", explode=[0.025]*5, labels=list(data_fall.rating), pctdistance=0.5) \n",
    "ax2.pie(x=data_summer.rating_count, autopct=\"%.1f%%\", explode=[0.025]*5, labels=list(data_summer.rating), pctdistance=0.5) \n",
    "#autopct - разрядность, pctdistance - расположение процентов\n",
    "\n",
    "plt.show()"
   ]
  },
  {
   "cell_type": "code",
   "execution_count": 23,
   "metadata": {},
   "outputs": [],
   "source": [
    "data_fall_summer=pd.concat([data_fall,data_summer]).reset_index(drop=True) #конкатенирую датафреймы со сбросом индекса для дальнейших действий"
   ]
  },
  {
   "cell_type": "code",
   "execution_count": 24,
   "metadata": {},
   "outputs": [
    {
     "data": {
      "text/html": [
       "<div>\n",
       "<style scoped>\n",
       "    .dataframe tbody tr th:only-of-type {\n",
       "        vertical-align: middle;\n",
       "    }\n",
       "\n",
       "    .dataframe tbody tr th {\n",
       "        vertical-align: top;\n",
       "    }\n",
       "\n",
       "    .dataframe thead th {\n",
       "        text-align: right;\n",
       "    }\n",
       "</style>\n",
       "<table border=\"1\" class=\"dataframe\">\n",
       "  <thead>\n",
       "    <tr style=\"text-align: right;\">\n",
       "      <th></th>\n",
       "      <th>season</th>\n",
       "      <th>rating</th>\n",
       "      <th>rating_count</th>\n",
       "      <th>percentage</th>\n",
       "    </tr>\n",
       "  </thead>\n",
       "  <tbody>\n",
       "    <tr>\n",
       "      <th>0</th>\n",
       "      <td>fall</td>\n",
       "      <td>1</td>\n",
       "      <td>131</td>\n",
       "      <td>5.0</td>\n",
       "    </tr>\n",
       "    <tr>\n",
       "      <th>1</th>\n",
       "      <td>fall</td>\n",
       "      <td>2</td>\n",
       "      <td>172</td>\n",
       "      <td>6.0</td>\n",
       "    </tr>\n",
       "    <tr>\n",
       "      <th>2</th>\n",
       "      <td>fall</td>\n",
       "      <td>3</td>\n",
       "      <td>389</td>\n",
       "      <td>14.0</td>\n",
       "    </tr>\n",
       "    <tr>\n",
       "      <th>3</th>\n",
       "      <td>fall</td>\n",
       "      <td>4</td>\n",
       "      <td>687</td>\n",
       "      <td>24.0</td>\n",
       "    </tr>\n",
       "    <tr>\n",
       "      <th>4</th>\n",
       "      <td>fall</td>\n",
       "      <td>5</td>\n",
       "      <td>1446</td>\n",
       "      <td>51.0</td>\n",
       "    </tr>\n",
       "    <tr>\n",
       "      <th>5</th>\n",
       "      <td>summer</td>\n",
       "      <td>1</td>\n",
       "      <td>293</td>\n",
       "      <td>7.0</td>\n",
       "    </tr>\n",
       "    <tr>\n",
       "      <th>6</th>\n",
       "      <td>summer</td>\n",
       "      <td>2</td>\n",
       "      <td>347</td>\n",
       "      <td>8.0</td>\n",
       "    </tr>\n",
       "    <tr>\n",
       "      <th>7</th>\n",
       "      <td>summer</td>\n",
       "      <td>3</td>\n",
       "      <td>694</td>\n",
       "      <td>16.0</td>\n",
       "    </tr>\n",
       "    <tr>\n",
       "      <th>8</th>\n",
       "      <td>summer</td>\n",
       "      <td>4</td>\n",
       "      <td>1150</td>\n",
       "      <td>27.0</td>\n",
       "    </tr>\n",
       "    <tr>\n",
       "      <th>9</th>\n",
       "      <td>summer</td>\n",
       "      <td>5</td>\n",
       "      <td>1728</td>\n",
       "      <td>41.0</td>\n",
       "    </tr>\n",
       "  </tbody>\n",
       "</table>\n",
       "</div>"
      ],
      "text/plain": [
       "   season  rating  rating_count  percentage\n",
       "0    fall       1           131         5.0\n",
       "1    fall       2           172         6.0\n",
       "2    fall       3           389        14.0\n",
       "3    fall       4           687        24.0\n",
       "4    fall       5          1446        51.0\n",
       "5  summer       1           293         7.0\n",
       "6  summer       2           347         8.0\n",
       "7  summer       3           694        16.0\n",
       "8  summer       4          1150        27.0\n",
       "9  summer       5          1728        41.0"
      ]
     },
     "execution_count": 24,
     "metadata": {},
     "output_type": "execute_result"
    }
   ],
   "source": [
    "data_fall_summer"
   ]
  },
  {
   "cell_type": "code",
   "execution_count": 25,
   "metadata": {},
   "outputs": [
    {
     "data": {
      "text/plain": [
       "<AxesSubplot:xlabel='season'>"
      ]
     },
     "execution_count": 25,
     "metadata": {},
     "output_type": "execute_result"
    },
    {
     "data": {
      "image/png": "[encoded data removed]",
      "text/plain": [
       "<Figure size 432x288 with 1 Axes>"
      ]
     },
     "metadata": {
      "needs_background": "light"
     },
     "output_type": "display_data"
    }
   ],
   "source": [
    "pivoted_df=data_fall_summer.pivot(index='season',columns='rating',values='rating_count') #делаю сводную таблицу\n",
    "pivoted_df.plot(kind='bar')\n",
    "#H0 - сезон (осень/лето) не влияет на оценку, H1 - влияет"
   ]
  },
  {
   "cell_type": "code",
   "execution_count": 26,
   "metadata": {},
   "outputs": [
    {
     "data": {
      "text/html": [
       "<div>\n",
       "<style scoped>\n",
       "    .dataframe tbody tr th:only-of-type {\n",
       "        vertical-align: middle;\n",
       "    }\n",
       "\n",
       "    .dataframe tbody tr th {\n",
       "        vertical-align: top;\n",
       "    }\n",
       "\n",
       "    .dataframe thead th {\n",
       "        text-align: right;\n",
       "    }\n",
       "</style>\n",
       "<table border=\"1\" class=\"dataframe\">\n",
       "  <thead>\n",
       "    <tr style=\"text-align: right;\">\n",
       "      <th>rating</th>\n",
       "      <th>1</th>\n",
       "      <th>2</th>\n",
       "      <th>3</th>\n",
       "      <th>4</th>\n",
       "      <th>5</th>\n",
       "      <th>All</th>\n",
       "    </tr>\n",
       "    <tr>\n",
       "      <th>season</th>\n",
       "      <th></th>\n",
       "      <th></th>\n",
       "      <th></th>\n",
       "      <th></th>\n",
       "      <th></th>\n",
       "      <th></th>\n",
       "    </tr>\n",
       "  </thead>\n",
       "  <tbody>\n",
       "    <tr>\n",
       "      <th>fall</th>\n",
       "      <td>131</td>\n",
       "      <td>172</td>\n",
       "      <td>389</td>\n",
       "      <td>687</td>\n",
       "      <td>1446</td>\n",
       "      <td>2825</td>\n",
       "    </tr>\n",
       "    <tr>\n",
       "      <th>spring</th>\n",
       "      <td>190</td>\n",
       "      <td>239</td>\n",
       "      <td>503</td>\n",
       "      <td>832</td>\n",
       "      <td>1397</td>\n",
       "      <td>3161</td>\n",
       "    </tr>\n",
       "    <tr>\n",
       "      <th>summer</th>\n",
       "      <td>293</td>\n",
       "      <td>347</td>\n",
       "      <td>694</td>\n",
       "      <td>1150</td>\n",
       "      <td>1728</td>\n",
       "      <td>4212</td>\n",
       "    </tr>\n",
       "    <tr>\n",
       "      <th>winter</th>\n",
       "      <td>122</td>\n",
       "      <td>179</td>\n",
       "      <td>347</td>\n",
       "      <td>651</td>\n",
       "      <td>1196</td>\n",
       "      <td>2495</td>\n",
       "    </tr>\n",
       "    <tr>\n",
       "      <th>All</th>\n",
       "      <td>736</td>\n",
       "      <td>937</td>\n",
       "      <td>1933</td>\n",
       "      <td>3320</td>\n",
       "      <td>5767</td>\n",
       "      <td>12693</td>\n",
       "    </tr>\n",
       "  </tbody>\n",
       "</table>\n",
       "</div>"
      ],
      "text/plain": [
       "rating    1    2     3     4     5    All\n",
       "season                                   \n",
       "fall    131  172   389   687  1446   2825\n",
       "spring  190  239   503   832  1397   3161\n",
       "summer  293  347   694  1150  1728   4212\n",
       "winter  122  179   347   651  1196   2495\n",
       "All     736  937  1933  3320  5767  12693"
      ]
     },
     "execution_count": 26,
     "metadata": {},
     "output_type": "execute_result"
    }
   ],
   "source": [
    "#Строю таблицу сопряженности\n",
    "contingency_table = pd.crosstab(\n",
    "    paris_rating_by_season['season'], \n",
    "    paris_rating_by_season['rating'],\n",
    "    paris_rating_by_season['rating_count'], #index, columns, values\n",
    "    aggfunc='sum',\n",
    "    margins = True\n",
    ")\n",
    "contingency_table "
   ]
  },
  {
   "cell_type": "code",
   "execution_count": 27,
   "metadata": {},
   "outputs": [
    {
     "data": {
      "text/plain": [
       "array([[ 131,  172,  389,  687, 1446, 2825],\n",
       "       [ 293,  347,  694, 1150, 1728, 4212]], dtype=int64)"
      ]
     },
     "execution_count": 27,
     "metadata": {},
     "output_type": "execute_result"
    }
   ],
   "source": [
    "r_obs = np.array([contingency_table.iloc[0][0:6].values,\n",
    "                  contingency_table.iloc[2][0:6].values]) #observed values\n",
    "r_obs"
   ]
  },
  {
   "cell_type": "code",
   "execution_count": 28,
   "metadata": {},
   "outputs": [
    {
     "data": {
      "text/plain": [
       "array([ 293,  347,  694, 1150, 1728, 4212], dtype=int64)"
      ]
     },
     "execution_count": 28,
     "metadata": {},
     "output_type": "execute_result"
    }
   ],
   "source": [
    "contingency_table.iloc[0][0:6].values #values для осени\n",
    "contingency_table.iloc[2][0:6].values #values для лета"
   ]
  },
  {
   "cell_type": "code",
   "execution_count": 29,
   "metadata": {},
   "outputs": [
    {
     "data": {
      "text/plain": [
       "(78.20874795836986, 1.9880990320811147e-15, 5)"
      ]
     },
     "execution_count": 29,
     "metadata": {},
     "output_type": "execute_result"
    }
   ],
   "source": [
    "from scipy import stats\n",
    "stats.chi2_contingency(r_obs)[0:3] #chi2, p, dof"
   ]
  },
  {
   "cell_type": "code",
   "execution_count": 30,
   "metadata": {},
   "outputs": [],
   "source": [
    "#Можно отклонить H0 об отсутствии влияния сезона, рискуя ошибиться с околонулевой вероятностью"
   ]
  },
  {
   "cell_type": "code",
   "execution_count": null,
   "metadata": {},
   "outputs": [],
   "source": []
  }
 ],
 "metadata": {
  "kernelspec": {
   "display_name": "Python 3",
   "language": "python",
   "name": "python3"
  },
  "language_info": {
   "codemirror_mode": {
    "name": "ipython",
    "version": 3
   },
   "file_extension": ".py",
   "mimetype": "text/x-python",
   "name": "python",
   "nbconvert_exporter": "python",
   "pygments_lexer": "ipython3",
   "version": "3.7.2"
  }
 },
 "nbformat": 4,
 "nbformat_minor": 4
}
